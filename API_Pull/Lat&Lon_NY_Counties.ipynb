{
 "cells": [
  {
   "cell_type": "code",
   "execution_count": 3,
   "id": "b1c1d63e",
   "metadata": {},
   "outputs": [
    {
     "name": "stdout",
     "output_type": "stream",
     "text": [
      "Failed to retrieve data from the API. Response code: 401\n"
     ]
    }
   ],
   "source": [
    "import requests\n",
    "import pandas as pd\n",
    "\n",
    "# Define the API endpoint URL\n",
    "url = \"https://api.geoapify.com/v1/geocode/search?\"\n",
    "\n",
    "# Add the API key to the URL\n",
    "api_key = \"09c668d90a6c4521b0ac6eeb829a2290\"\n",
    "url = url + \"apikey=\" + api_key\n",
    "\n",
    "# Add the location query to the URL\n",
    "location = \"New York County\"\n",
    "location = location.replace(\" \", \"+\")\n",
    "url = url + \"&text=\" + location + \"+county\"\n",
    "\n",
    "# Send a GET request to the API\n",
    "response = requests.get(url)\n",
    "\n",
    "# Check if the request was successful\n",
    "if response.status_code == 200:\n",
    "    # Convert the JSON response to a Pandas dataframe\n",
    "    df = pd.DataFrame(response.json()[\"features\"])\n",
    "\n",
    "    # Filter the dataframe to only include counties in New York state\n",
    "    df = df[df[\"properties\"][\"state\"] == \"New York\"]\n",
    "\n",
    "    # Create a new dataframe to store the longitude and latitude values\n",
    "    result = pd.DataFrame(columns=[\"County\", \"Longitude\", \"Latitude\"])\n",
    "\n",
    "    # Loop through each county in the dataframe\n",
    "    for i, row in df.iterrows():\n",
    "        # Extract the county name and coordinates\n",
    "        county = row[\"properties\"][\"name\"]\n",
    "        longitude = row[\"geometry\"][\"coordinates\"][0]\n",
    "        latitude = row[\"geometry\"][\"coordinates\"][1]\n",
    "\n",
    "        # Add the county name, longitude, and latitude to the result dataframe\n",
    "        result = result.append({\"County\": county, \"Longitude\": longitude, \"Latitude\": latitude}, ignore_index=True)\n",
    "\n",
    "    # Print the result dataframe\n",
    "    print(result)\n",
    "else:\n",
    "    # Print an error message\n",
    "    print(\"Failed to retrieve data from the API. Response code:\", response.status_code)\n"
   ]
  },
  {
   "cell_type": "code",
   "execution_count": null,
   "id": "8877a0e1",
   "metadata": {},
   "outputs": [],
   "source": []
  },
  {
   "cell_type": "code",
   "execution_count": null,
   "id": "a91972f3",
   "metadata": {},
   "outputs": [],
   "source": []
  }
 ],
 "metadata": {
  "kernelspec": {
   "display_name": "Python 3 (ipykernel)",
   "language": "python",
   "name": "python3"
  },
  "language_info": {
   "codemirror_mode": {
    "name": "ipython",
    "version": 3
   },
   "file_extension": ".py",
   "mimetype": "text/x-python",
   "name": "python",
   "nbconvert_exporter": "python",
   "pygments_lexer": "ipython3",
   "version": "3.9.13"
  }
 },
 "nbformat": 4,
 "nbformat_minor": 5
}
