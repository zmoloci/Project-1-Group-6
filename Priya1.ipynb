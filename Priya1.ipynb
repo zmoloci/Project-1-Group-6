{
 "cells": [
  {
   "cell_type": "code",
   "execution_count": 1,
   "metadata": {},
   "outputs": [
    {
     "name": "stdout",
     "output_type": "stream",
     "text": [
      "Hello Sixies!\n"
     ]
    }
   ],
   "source": [
    "print(\"Hello Sixies!\")"
   ]
  }
 ],
 "metadata": {
  "kernelspec": {
   "display_name": "base",
   "language": "python",
   "name": "python3"
  },
  "language_info": {
   "codemirror_mode": {
    "name": "ipython",
    "version": 3
   },
   "file_extension": ".py",
   "mimetype": "text/x-python",
   "name": "python",
   "nbconvert_exporter": "python",
   "pygments_lexer": "ipython3",
   "version": "3.9.13"
  },
  "orig_nbformat": 4,
  "vscode": {
   "interpreter": {
    "hash": "327b713ccba2fcd4df79965b0d7d4c8d92a4a01cd24819ab1ab57dcbe7e68da9"
   }
  }
 },
 "nbformat": 4,
 "nbformat_minor": 2
}
