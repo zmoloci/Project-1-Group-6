{
 "cells": [
  {
   "cell_type": "code",
   "execution_count": 2,
   "metadata": {},
   "outputs": [],
   "source": [
    "# Dependencies\n",
    "import requests\n",
    "from config import api_key\n",
    "from config import fred_api\n",
    "from full_fred.fred import Fred\n",
    "import time\n",
    "\n",
    "# url = \"https://api.census.gov/data/2010/dec/sf1?get=\"\n",
    "url = \"https://api.census.gov/data/2000/dec/sf1?get=\"\n",
    "\n",
    "# Store a search term \n",
    "# 2000 CENSUS\n",
    "# --------------------\n",
    "#P001001 = Total Population\n",
    "#P002001 = Total Urban and Rural Pop.\n",
    "#P002002 = Urban Pop.\n",
    "#P002005 = Rural Pop.\n",
    "#P003001 = Total (all races)\n",
    "#H004002\tTotal!!Owner occupied\tTENURE [3]\n",
    "#H004003\tTotal!!Renter occupied\n",
    "#H010001 = TOTAL POPULATION IN OCCUPIED HOUSING UNITS\n",
    "#H003001 =  Total\tOCCUPANCY STATUS\n",
    "#H003002 = Total!!Occupied\tOCCUPANCY STATUS\n",
    "#H003003 = Total!!Vacant\tOCCUPANCY STATUS\n",
    "\n",
    "# 2010 CENSUS\n",
    "# --------------------\n",
    "#P001001 = Total Population\n",
    "#P002001 = Total Urban and Rural Pop.\n",
    "#P002004 = Urban Pop.\n",
    "#P002005 = Rural Pop.\n",
    "#P003001 = Total (all races)\n",
    "#H017H012 = Total Renter Occupied\n",
    "#H017I002 = Total Owner Occupied\n",
    "#H010001 = TOTAL POPULATION IN OCCUPIED HOUSING UNITS\n",
    "#H003001 =  Total\tOCCUPANCY STATUS\n",
    "#H003002 = Total!!Occupied\tOCCUPANCY STATUS\n",
    "#H003003 = Total!!Vacant\tOCCUPANCY STATUS\n",
    "\n",
    "\n",
    "# query = \"NAME,H017H012,H010001,H003001,H003002,H003003,P001001,P002001,P002004,P002005,P003001\"\n",
    "query = \"NAME,P001001\"\n",
    "\n",
    "# State 36 = New York\n",
    "state = \"36\"\n",
    "\n",
    "# api.census.gov/data/2010/dec/sf1?get=PCT012A015,PCT012A119&for=state:01&key=[user key]\n",
    "\n",
    "# https://api.census.gov/data/ 2019/acs/acs5/profile ?get=DP05_0001E &for=county:*&in=state:24 \n",
    "\n",
    "query_url = f\"{url}{query}&for=county:*&in=state:{state}\""
   ]
  },
  {
   "cell_type": "code",
   "execution_count": 3,
   "metadata": {},
   "outputs": [
    {
     "data": {
      "text/plain": [
       "[['NAME', 'P001001', 'state', 'county'],\n",
       " ['Albany County, New York', '294565', '36', '001'],\n",
       " ['Allegany County, New York', '49927', '36', '003'],\n",
       " ['Bronx County, New York', '1332650', '36', '005'],\n",
       " ['Broome County, New York', '200536', '36', '007'],\n",
       " ['Cattaraugus County, New York', '83955', '36', '009'],\n",
       " ['Cayuga County, New York', '81963', '36', '011'],\n",
       " ['Chautauqua County, New York', '139750', '36', '013'],\n",
       " ['Chemung County, New York', '91070', '36', '015'],\n",
       " ['Chenango County, New York', '51401', '36', '017'],\n",
       " ['Clinton County, New York', '79894', '36', '019'],\n",
       " ['Columbia County, New York', '63094', '36', '021'],\n",
       " ['Cortland County, New York', '48599', '36', '023'],\n",
       " ['Delaware County, New York', '48055', '36', '025'],\n",
       " ['Dutchess County, New York', '280150', '36', '027'],\n",
       " ['Erie County, New York', '950265', '36', '029'],\n",
       " ['Essex County, New York', '38851', '36', '031'],\n",
       " ['Franklin County, New York', '51134', '36', '033'],\n",
       " ['Fulton County, New York', '55073', '36', '035'],\n",
       " ['Genesee County, New York', '60370', '36', '037'],\n",
       " ['Greene County, New York', '48195', '36', '039'],\n",
       " ['Hamilton County, New York', '5379', '36', '041'],\n",
       " ['Herkimer County, New York', '64427', '36', '043'],\n",
       " ['Jefferson County, New York', '111738', '36', '045'],\n",
       " ['Kings County, New York', '2465326', '36', '047'],\n",
       " ['Lewis County, New York', '26944', '36', '049'],\n",
       " ['Livingston County, New York', '64328', '36', '051'],\n",
       " ['Madison County, New York', '69441', '36', '053'],\n",
       " ['Monroe County, New York', '735343', '36', '055'],\n",
       " ['Montgomery County, New York', '49708', '36', '057'],\n",
       " ['Nassau County, New York', '1334544', '36', '059'],\n",
       " ['New York County, New York', '1537195', '36', '061'],\n",
       " ['Niagara County, New York', '219846', '36', '063'],\n",
       " ['Oneida County, New York', '235469', '36', '065'],\n",
       " ['Onondaga County, New York', '458336', '36', '067'],\n",
       " ['Ontario County, New York', '100224', '36', '069'],\n",
       " ['Orange County, New York', '341367', '36', '071'],\n",
       " ['Orleans County, New York', '44171', '36', '073'],\n",
       " ['Oswego County, New York', '122377', '36', '075'],\n",
       " ['Otsego County, New York', '61676', '36', '077'],\n",
       " ['Putnam County, New York', '95745', '36', '079'],\n",
       " ['Queens County, New York', '2229379', '36', '081'],\n",
       " ['Rensselaer County, New York', '152538', '36', '083'],\n",
       " ['Richmond County, New York', '443728', '36', '085'],\n",
       " ['Rockland County, New York', '286753', '36', '087'],\n",
       " ['St. Lawrence County, New York', '111931', '36', '089'],\n",
       " ['Saratoga County, New York', '200635', '36', '091'],\n",
       " ['Schenectady County, New York', '146555', '36', '093'],\n",
       " ['Schoharie County, New York', '31582', '36', '095'],\n",
       " ['Schuyler County, New York', '19224', '36', '097'],\n",
       " ['Seneca County, New York', '33342', '36', '099'],\n",
       " ['Steuben County, New York', '98726', '36', '101'],\n",
       " ['Suffolk County, New York', '1419369', '36', '103'],\n",
       " ['Sullivan County, New York', '73966', '36', '105'],\n",
       " ['Tioga County, New York', '51784', '36', '107'],\n",
       " ['Tompkins County, New York', '96501', '36', '109'],\n",
       " ['Ulster County, New York', '177749', '36', '111'],\n",
       " ['Warren County, New York', '63303', '36', '113'],\n",
       " ['Washington County, New York', '61042', '36', '115'],\n",
       " ['Wayne County, New York', '93765', '36', '117'],\n",
       " ['Westchester County, New York', '923459', '36', '119'],\n",
       " ['Wyoming County, New York', '43424', '36', '121'],\n",
       " ['Yates County, New York', '24621', '36', '123']]"
      ]
     },
     "execution_count": 3,
     "metadata": {},
     "output_type": "execute_result"
    }
   ],
   "source": [
    "# Retrieve articles\n",
    "nycensus = requests.get(query_url).json()\n",
    "nycensus\n",
    "\n",
    "# articles_list = articles[\"response\"][\"docs\"]\n",
    "\n",
    "# for article in articles_list:\n",
    "#     print(f'A snippet from the article: {article[\"snippet\"]}')\n",
    "#     print('---------------------------')"
   ]
  },
  {
   "cell_type": "code",
   "execution_count": 9,
   "metadata": {},
   "outputs": [],
   "source": [
    "# # BONUS: How would we get 30 results? \n",
    "# # HINT: Look up the page query param\n",
    "\n",
    "# # Empty list for articles\n",
    "# articles_list = []\n",
    "\n",
    "# # loop through pages 0-2\n",
    "# for page in range(0, 3):\n",
    "#     query_url = f\"{url}api-key={api_key}&q={query}&begin_date={begin_date}&end_date={end_date}\"\n",
    "#     # create query with page number\n",
    "#     query_url = f\"{query_url}&page={str(page)}\"\n",
    "#     articles = requests.get(query_url).json()\n",
    "    \n",
    "#     # Add a one second interval between queries to stay within API query limits\n",
    "#     time.sleep(1)\n",
    "#     # loop through the response and append each article to the list\n",
    "#     for article in articles[\"response\"][\"docs\"]:\n",
    "#         articles_list.append(article)"
   ]
  },
  {
   "cell_type": "code",
   "execution_count": null,
   "metadata": {},
   "outputs": [],
   "source": []
  }
 ],
 "metadata": {
  "kernelspec": {
   "display_name": "PythonData",
   "language": "python",
   "name": "python3"
  },
  "language_info": {
   "codemirror_mode": {
    "name": "ipython",
    "version": 3
   },
   "file_extension": ".py",
   "mimetype": "text/x-python",
   "name": "python",
   "nbconvert_exporter": "python",
   "pygments_lexer": "ipython3",
   "version": "3.7.7"
  },
  "varInspector": {
   "cols": {
    "lenName": 16,
    "lenType": 16,
    "lenVar": 40
   },
   "kernels_config": {
    "python": {
     "delete_cmd_postfix": "",
     "delete_cmd_prefix": "del ",
     "library": "var_list.py",
     "varRefreshCmd": "print(var_dic_list())"
    },
    "r": {
     "delete_cmd_postfix": ") ",
     "delete_cmd_prefix": "rm(",
     "library": "var_list.r",
     "varRefreshCmd": "cat(var_dic_list()) "
    }
   },
   "types_to_exclude": [
    "module",
    "function",
    "builtin_function_or_method",
    "instance",
    "_Feature"
   ],
   "window_display": false
  },
  "vscode": {
   "interpreter": {
    "hash": "4c0b94a21367b3e679ba2c8b618daf2a73f73b6ffca34b83b0e00afbf574cd16"
   }
  }
 },
 "nbformat": 4,
 "nbformat_minor": 2
}
