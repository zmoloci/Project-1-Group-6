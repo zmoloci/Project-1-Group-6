{
 "cells": [
  {
   "cell_type": "code",
   "execution_count": 73,
   "metadata": {},
   "outputs": [],
   "source": [
    "import pandas as pd\n",
    "import matplotlib.pyplot as plt\n",
    "\n",
    "# ModuleNotFoundError: No module named 'config_copy' (or 'config')\n",
    "# from config_copy import geoapify_key\n",
    "# Hard code in geoapify_key for now:\n",
    "geoapify_key  = 'ba9029bb005d4d71a53d7b8740cb6ea6'\n",
    "\n",
    "import json\n",
    "import requests\n",
    "from pprint import pprint\n",
    "import hvplot.pandas"
   ]
  },
  {
   "cell_type": "code",
   "execution_count": 74,
   "metadata": {},
   "outputs": [],
   "source": [
    "# Priya's API pull for data.ny.gov - ./Resources/Annual_Pop_and_Density_by_County_beginning_1970.csv"
   ]
  },
  {
   "cell_type": "code",
   "execution_count": 75,
   "metadata": {},
   "outputs": [
    {
     "name": "stdout",
     "output_type": "stream",
     "text": [
      "      FIPS Code      Geography  Year                     Program Type  \\\n",
      "0         36001  Albany County  1970  Intercensal Population Estimate   \n",
      "1         36001  Albany County  1971  Intercensal Population Estimate   \n",
      "2         36001  Albany County  1972  Intercensal Population Estimate   \n",
      "3         36001  Albany County  1973  Intercensal Population Estimate   \n",
      "4         36001  Albany County  1974  Intercensal Population Estimate   \n",
      "...         ...            ...   ...                              ...   \n",
      "3649      36123   Yates County  2017   Postcensal Population Estimate   \n",
      "3650      36123   Yates County  2018   Postcensal Population Estimate   \n",
      "3651      36123   Yates County  2019   Postcensal Population Estimate   \n",
      "3652      36123   Yates County  2020   Postcensal Population Estimate   \n",
      "3653      36123   Yates County  2021   Postcensal Population Estimate   \n",
      "\n",
      "      Population  \n",
      "0         287114  \n",
      "1         288615  \n",
      "2         290302  \n",
      "3         289754  \n",
      "4         289148  \n",
      "...          ...  \n",
      "3649       25021  \n",
      "3650       24959  \n",
      "3651       24902  \n",
      "3652       24709  \n",
      "3653       24613  \n",
      "\n",
      "[3654 rows x 5 columns]\n"
     ]
    }
   ],
   "source": [
    "# Read Data.ny.gov data in to popdenscounty dataframe from CSV\n",
    "\n",
    "popdenscounty=pd.read_csv(\"./Resources/Annual_Pop_and_Density_by_County_beginning_1970.csv\")\n",
    "print(popdenscounty)"
   ]
  },
  {
   "cell_type": "code",
   "execution_count": 76,
   "metadata": {},
   "outputs": [
    {
     "name": "stdout",
     "output_type": "stream",
     "text": [
      "[36001, 36003, 36005, 36007, 36009, 36011, 36013, 36015, 36017, 36019, 36021, 36023, 36025, 36027, 36029, 36031, 36033, 36035, 36037, 36039, 36041, 36043, 36045, 36047, 36049, 36051, 36053, 36055, 36057, 36059, 36061, 36000, 36063, 36065, 36067, 36069, 36071, 36073, 36075, 36077, 36079, 36081, 36083, 36085, 36087, 36091, 36093, 36095, 36097, 36099, 36089, 36101, 36103, 36105, 36107, 36109, 36111, 36113, 36115, 36117, 36119, 36121, 36123]\n"
     ]
    }
   ],
   "source": [
    "# Create list of unique FIPS Codes for use with land area dataframe in next step\n",
    "\n",
    "fipscodes = []\n",
    "\n",
    "for i in range(len(popdenscounty['FIPS Code'])):\n",
    "    if popdenscounty.iat[i,0] in fipscodes:\n",
    "        pass\n",
    "    else:\n",
    "        fipscodes.append(popdenscounty.iat[i,0])\n",
    "\n",
    "print(fipscodes)\n"
   ]
  },
  {
   "cell_type": "code",
   "execution_count": 77,
   "metadata": {},
   "outputs": [],
   "source": [
    "# Priya's api/web data code - \"./Resources/health.ny.gov_table02.csv\""
   ]
  },
  {
   "cell_type": "code",
   "execution_count": 78,
   "metadata": {},
   "outputs": [
    {
     "name": "stdout",
     "output_type": "stream",
     "text": [
      "            County 2018 Population Estimate 2010 Census Population  \\\n",
      "0   New York State               19,542,209             19,378,102   \n",
      "1    New York City                8,398,748              8,175,133   \n",
      "2            Bronx                1,432,132              1,385,108   \n",
      "3            Kings                2,582,830              2,504,700   \n",
      "4         New York                1,628,701              1,585,873   \n",
      "..             ...                      ...                    ...   \n",
      "59      Washington                   61,197                 63,216   \n",
      "60           Wayne                   90,064                 93,772   \n",
      "61     Westchester                  967,612                949,113   \n",
      "62         Wyoming                   40,085                 42,155   \n",
      "63           Yates                   24,841                 25,348   \n",
      "\n",
      "   2010 Land Area Square Miles 2018 Population Density  \n",
      "0                    47,126.40                  414.68  \n",
      "1                       302.65               27,750.70  \n",
      "2                         42.1               34,017.39  \n",
      "3                        70.82               36,470.35  \n",
      "4                        22.83               71,340.39  \n",
      "..                         ...                     ...  \n",
      "59                      831.18                   73.63  \n",
      "60                      603.83                  149.15  \n",
      "61                       430.5                2,247.65  \n",
      "62                      592.75                   67.63  \n",
      "63                      338.14                   73.46  \n",
      "\n",
      "[64 rows x 5 columns]\n"
     ]
    }
   ],
   "source": [
    "# Read Health.ny.gov data into dataframe from CSV\n",
    "\n",
    "landareacounty=pd.read_csv(\"./Resources/health.ny.gov_table02.csv\")\n",
    "landareacounty=pd.DataFrame(landareacounty)\n",
    "print(landareacounty)"
   ]
  },
  {
   "cell_type": "code",
   "execution_count": 79,
   "metadata": {},
   "outputs": [],
   "source": [
    "# Drop all columns from landareacounty except 'County' and '2010 Land Area Square Miles'\n",
    "reducelandareacounty = landareacounty[['County','2010 Land Area Square Miles']]\n",
    "\n",
    "# Then remove rows with New York City Summaries\n",
    "reducelandareacounty = reducelandareacounty.drop([reducelandareacounty.index[1]])\n",
    "\n",
    "# Then sort by county name\n",
    "sortreducelandarea = reducelandareacounty.sort_values(by='County')\n",
    "\n",
    "# reset index and Add FIPS Code as Column\n",
    "sortreducelandarea = sortreducelandarea.reset_index(drop=True)\n",
    "\n",
    "sortreducelandarea.insert(0, \"FIPS Code\", fipscodes)"
   ]
  },
  {
   "cell_type": "code",
   "execution_count": 80,
   "metadata": {},
   "outputs": [
    {
     "name": "stdout",
     "output_type": "stream",
     "text": [
      "      FIPS Code      Geography  Year                     Program Type  \\\n",
      "0         36001  Albany County  1970  Intercensal Population Estimate   \n",
      "1         36001  Albany County  1971  Intercensal Population Estimate   \n",
      "2         36001  Albany County  1972  Intercensal Population Estimate   \n",
      "3         36001  Albany County  1973  Intercensal Population Estimate   \n",
      "4         36001  Albany County  1974  Intercensal Population Estimate   \n",
      "...         ...            ...   ...                              ...   \n",
      "3649      36123   Yates County  2017   Postcensal Population Estimate   \n",
      "3650      36123   Yates County  2018   Postcensal Population Estimate   \n",
      "3651      36123   Yates County  2019   Postcensal Population Estimate   \n",
      "3652      36123   Yates County  2020   Postcensal Population Estimate   \n",
      "3653      36123   Yates County  2021   Postcensal Population Estimate   \n",
      "\n",
      "      Population Land Area (Square Miles)  \n",
      "0         287114                    522.8  \n",
      "1         288615                    522.8  \n",
      "2         290302                    522.8  \n",
      "3         289754                    522.8  \n",
      "4         289148                    522.8  \n",
      "...          ...                      ...  \n",
      "3649       25021                   338.14  \n",
      "3650       24959                   338.14  \n",
      "3651       24902                   338.14  \n",
      "3652       24709                   338.14  \n",
      "3653       24613                   338.14  \n",
      "\n",
      "[3654 rows x 6 columns]\n"
     ]
    }
   ],
   "source": [
    "# Remove commas from 2010 Land Area Square Miles values\n",
    "cleanlandarea = []\n",
    "for i in range(len(sortreducelandarea)):\n",
    "    cleanlandarea.append(sortreducelandarea.iat[i,2].replace(',', ''))\n",
    "\n",
    "sortreducelandarea.insert(3,'Land Area (Square Miles)', cleanlandarea)\n",
    "sortreducelandarea = sortreducelandarea[['FIPS Code','County','Land Area (Square Miles)']]\n",
    "\n",
    "# Add 2010 Land Area Square Miles data into popdenscounty dataframe\n",
    "popdenscountyland = pd.merge(popdenscounty, sortreducelandarea, how='outer')\n",
    "\n",
    "# Remove 'County' column\n",
    "popdenscountyland = popdenscountyland[['FIPS Code','Geography','Year','Program Type','Population','Land Area (Square Miles)']]\n",
    "print(popdenscountyland)"
   ]
  },
  {
   "cell_type": "code",
   "execution_count": 81,
   "metadata": {},
   "outputs": [
    {
     "name": "stdout",
     "output_type": "stream",
     "text": [
      "      FIPS Code      Geography  Year                     Program Type  \\\n",
      "0         36001  Albany County  1970  Intercensal Population Estimate   \n",
      "1         36001  Albany County  1971  Intercensal Population Estimate   \n",
      "2         36001  Albany County  1972  Intercensal Population Estimate   \n",
      "3         36001  Albany County  1973  Intercensal Population Estimate   \n",
      "4         36001  Albany County  1974  Intercensal Population Estimate   \n",
      "...         ...            ...   ...                              ...   \n",
      "3649      36123   Yates County  2017   Postcensal Population Estimate   \n",
      "3650      36123   Yates County  2018   Postcensal Population Estimate   \n",
      "3651      36123   Yates County  2019   Postcensal Population Estimate   \n",
      "3652      36123   Yates County  2020   Postcensal Population Estimate   \n",
      "3653      36123   Yates County  2021   Postcensal Population Estimate   \n",
      "\n",
      "      Population  Land Area (Square Miles)  \\\n",
      "0         287114                    522.80   \n",
      "1         288615                    522.80   \n",
      "2         290302                    522.80   \n",
      "3         289754                    522.80   \n",
      "4         289148                    522.80   \n",
      "...          ...                       ...   \n",
      "3649       25021                    338.14   \n",
      "3650       24959                    338.14   \n",
      "3651       24902                    338.14   \n",
      "3652       24709                    338.14   \n",
      "3653       24613                    338.14   \n",
      "\n",
      "      Population Density (Population per Square Mile)  \n",
      "0                                          549.185157  \n",
      "1                                          552.056236  \n",
      "2                                          555.283091  \n",
      "3                                          554.234889  \n",
      "4                                          553.075746  \n",
      "...                                               ...  \n",
      "3649                                        73.995978  \n",
      "3650                                        73.812622  \n",
      "3651                                        73.644053  \n",
      "3652                                        73.073283  \n",
      "3653                                        72.789377  \n",
      "\n",
      "[3654 rows x 7 columns]\n"
     ]
    }
   ],
   "source": [
    "# Convert Population and Land Area values to integer\n",
    "popdenscountyland['Population'] = popdenscountyland['Population'].astype(int)\n",
    "popdenscountyland['Land Area (Square Miles)'] = popdenscountyland['Land Area (Square Miles)'].astype(float)\n",
    "\n",
    "\n",
    "# Add Population Density column\n",
    "popdenscolumn = []\n",
    "for i in range(len(popdenscountyland)):\n",
    "    pop = popdenscountyland.iat[i,4]\n",
    "    dens = popdenscountyland.iat[i,5]\n",
    "    popdens = pop / dens\n",
    "    popdenscolumn.append(popdens)\n",
    "\n",
    "popdenscountyland['Population Density (Population per Square Mile)'] = popdenscolumn\n",
    "\n",
    "print(popdenscountyland)"
   ]
  },
  {
   "cell_type": "code",
   "execution_count": 82,
   "metadata": {},
   "outputs": [
    {
     "name": "stdout",
     "output_type": "stream",
     "text": [
      "     FIPS Code      Geography  Year            Program Type  Population  \\\n",
      "0        36001  Albany County  1970  Census Base Population      286742   \n",
      "1        36001  Albany County  1980  Census Base Population      285909   \n",
      "2        36001  Albany County  1990  Census Base Population      292812   \n",
      "3        36001  Albany County  2000  Census Base Population      294601   \n",
      "4        36001  Albany County  2010  Census Base Population      304199   \n",
      "..         ...            ...   ...                     ...         ...   \n",
      "373      36123   Yates County  1980  Census Base Population       21459   \n",
      "374      36123   Yates County  1990  Census Base Population       22810   \n",
      "375      36123   Yates County  2000  Census Base Population       24591   \n",
      "376      36123   Yates County  2010  Census Base Population       25364   \n",
      "377      36123   Yates County  2020  Census Base Population       24774   \n",
      "\n",
      "     Land Area (Square Miles)  Population Density (Population per Square Mile)  \n",
      "0                      522.80                                       548.473604  \n",
      "1                      522.80                                       546.880260  \n",
      "2                      522.80                                       560.084162  \n",
      "3                      522.80                                       563.506121  \n",
      "4                      522.80                                       581.864958  \n",
      "..                        ...                                              ...  \n",
      "373                    338.14                                        63.461880  \n",
      "374                    338.14                                        67.457266  \n",
      "375                    338.14                                        72.724315  \n",
      "376                    338.14                                        75.010351  \n",
      "377                    338.14                                        73.265511  \n",
      "\n",
      "[378 rows x 7 columns]\n"
     ]
    }
   ],
   "source": [
    "# Remove non-Census Base Population rows\n",
    "\n",
    "censusonly_popdenscntyland = popdenscountyland[popdenscountyland['Program Type']=='Census Base Population'].reset_index(drop=True)\n",
    "\n",
    "print(censusonly_popdenscntyland)"
   ]
  },
  {
   "cell_type": "code",
   "execution_count": 83,
   "metadata": {},
   "outputs": [
    {
     "name": "stdout",
     "output_type": "stream",
     "text": [
      "     FIPS Code      Geography  Year            Program Type  Population  \\\n",
      "0        36001  Albany County  1970  Census Base Population      286742   \n",
      "1        36001  Albany County  1980  Census Base Population      285909   \n",
      "2        36001  Albany County  1990  Census Base Population      292812   \n",
      "3        36001  Albany County  2000  Census Base Population      294601   \n",
      "4        36001  Albany County  2010  Census Base Population      304199   \n",
      "..         ...            ...   ...                     ...         ...   \n",
      "373      36123   Yates County  1980  Census Base Population       21459   \n",
      "374      36123   Yates County  1990  Census Base Population       22810   \n",
      "375      36123   Yates County  2000  Census Base Population       24591   \n",
      "376      36123   Yates County  2010  Census Base Population       25364   \n",
      "377      36123   Yates County  2020  Census Base Population       24774   \n",
      "\n",
      "     Land Area (Square Miles)  \\\n",
      "0                      522.80   \n",
      "1                      522.80   \n",
      "2                      522.80   \n",
      "3                      522.80   \n",
      "4                      522.80   \n",
      "..                        ...   \n",
      "373                    338.14   \n",
      "374                    338.14   \n",
      "375                    338.14   \n",
      "376                    338.14   \n",
      "377                    338.14   \n",
      "\n",
      "     Population Density (Population per Square Mile)  Starting pop den. 1970  \\\n",
      "0                                         548.473604              548.473604   \n",
      "1                                         546.880260              548.473604   \n",
      "2                                         560.084162              548.473604   \n",
      "3                                         563.506121              548.473604   \n",
      "4                                         581.864958              548.473604   \n",
      "..                                               ...                     ...   \n",
      "373                                        63.461880               58.647306   \n",
      "374                                        67.457266               58.647306   \n",
      "375                                        72.724315               58.647306   \n",
      "376                                        75.010351               58.647306   \n",
      "377                                        73.265511               58.647306   \n",
      "\n",
      "     Starting pop 1970  \n",
      "0             286742.0  \n",
      "1             286742.0  \n",
      "2             286742.0  \n",
      "3             286742.0  \n",
      "4             286742.0  \n",
      "..                 ...  \n",
      "373            19831.0  \n",
      "374            19831.0  \n",
      "375            19831.0  \n",
      "376            19831.0  \n",
      "377            19831.0  \n",
      "\n",
      "[378 rows x 9 columns]\n"
     ]
    }
   ],
   "source": [
    "# Add 1970 starting pop density column\n",
    "popden1970 = []\n",
    "pop1970 = []\n",
    "\n",
    "for i in range(len(censusonly_popdenscntyland['Population Density (Population per Square Mile)'])):\n",
    "    if censusonly_popdenscntyland.iat[i,2]==1970:\n",
    "        currpopden = censusonly_popdenscntyland.iat[i,6]\n",
    "        currpop = censusonly_popdenscntyland.iat[i,4]\n",
    "        popden1970.append(currpopden.astype(float))\n",
    "        pop1970.append(currpop.astype(int))\n",
    "    else:\n",
    "        popden1970.append(currpopden.astype(float))\n",
    "        pop1970.append(currpop.astype(float))\n",
    "\n",
    "censusonly_popdenscntyland['Starting pop den. 1970']=popden1970\n",
    "censusonly_popdenscntyland['Starting pop 1970']=pop1970\n",
    "\n",
    "print(censusonly_popdenscntyland)\n"
   ]
  },
  {
   "cell_type": "code",
   "execution_count": 84,
   "metadata": {},
   "outputs": [],
   "source": [
    "# Add 50-Year population growth column\n",
    "popgrow50yr = []\n",
    "\n",
    "for i in range(len(censusonly_popdenscntyland['Population Density (Population per Square Mile)'])):\n",
    "    if censusonly_popdenscntyland.iat[i,2]!=2020:\n",
    "        popgrow50yr.append('')\n",
    "    else:\n",
    "        popgrow50yr.append((censusonly_popdenscntyland.iat[i,4] - censusonly_popdenscntyland.iat[i,8]) / censusonly_popdenscntyland.iat[i,8])\n",
    "\n",
    "censusonly_popdenscntyland['50-Year Population Growth']=popgrow50yr\n",
    "\n",
    "# Add 10-Year population growth column\n",
    "popgrow10yr = []\n",
    "\n",
    "for i in range(len(censusonly_popdenscntyland['Population Density (Population per Square Mile)'])):\n",
    "    if censusonly_popdenscntyland.iat[i,2]==1970:\n",
    "        popgrow10yr.append('')\n",
    "    else:\n",
    "        popgrow10yr.append((censusonly_popdenscntyland.iat[i,4] - censusonly_popdenscntyland.iat[i-1,4]) / censusonly_popdenscntyland.iat[i-1,4])\n",
    "\n",
    "censusonly_popdenscntyland['10-Year Population Growth']=popgrow10yr"
   ]
  },
  {
   "cell_type": "code",
   "execution_count": 85,
   "metadata": {},
   "outputs": [
    {
     "name": "stdout",
     "output_type": "stream",
     "text": [
      "     FIPS Code      Geography  Year            Program Type  Population  \\\n",
      "0        36001  Albany County  1970  Census Base Population      286742   \n",
      "1        36001  Albany County  1980  Census Base Population      285909   \n",
      "2        36001  Albany County  1990  Census Base Population      292812   \n",
      "3        36001  Albany County  2000  Census Base Population      294601   \n",
      "4        36001  Albany County  2010  Census Base Population      304199   \n",
      "..         ...            ...   ...                     ...         ...   \n",
      "373      36123   Yates County  1980  Census Base Population       21459   \n",
      "374      36123   Yates County  1990  Census Base Population       22810   \n",
      "375      36123   Yates County  2000  Census Base Population       24591   \n",
      "376      36123   Yates County  2010  Census Base Population       25364   \n",
      "377      36123   Yates County  2020  Census Base Population       24774   \n",
      "\n",
      "     Land Area (Square Miles)  \\\n",
      "0                      522.80   \n",
      "1                      522.80   \n",
      "2                      522.80   \n",
      "3                      522.80   \n",
      "4                      522.80   \n",
      "..                        ...   \n",
      "373                    338.14   \n",
      "374                    338.14   \n",
      "375                    338.14   \n",
      "376                    338.14   \n",
      "377                    338.14   \n",
      "\n",
      "     Population Density (Population per Square Mile)  Starting pop den. 1970  \\\n",
      "0                                         548.473604              548.473604   \n",
      "1                                         546.880260              548.473604   \n",
      "2                                         560.084162              548.473604   \n",
      "3                                         563.506121              548.473604   \n",
      "4                                         581.864958              548.473604   \n",
      "..                                               ...                     ...   \n",
      "373                                        63.461880               58.647306   \n",
      "374                                        67.457266               58.647306   \n",
      "375                                        72.724315               58.647306   \n",
      "376                                        75.010351               58.647306   \n",
      "377                                        73.265511               58.647306   \n",
      "\n",
      "     Starting pop 1970 50-Year Population Growth 10-Year Population Growth  \n",
      "0             286742.0                                                      \n",
      "1             286742.0                                         -0.00290505  \n",
      "2             286742.0                                            0.024144  \n",
      "3             286742.0                                          0.00610972  \n",
      "4             286742.0                                           0.0325797  \n",
      "..                 ...                       ...                       ...  \n",
      "373            19831.0                                           0.0820937  \n",
      "374            19831.0                                           0.0629573  \n",
      "375            19831.0                                           0.0780798  \n",
      "376            19831.0                                           0.0314343  \n",
      "377            19831.0                  0.249256                -0.0232613  \n",
      "\n",
      "[378 rows x 11 columns]\n"
     ]
    }
   ],
   "source": [
    "print(censusonly_popdenscntyland)"
   ]
  },
  {
   "cell_type": "code",
   "execution_count": 88,
   "metadata": {},
   "outputs": [],
   "source": [
    "# Export CSV to Output Folder\n",
    "censusonly_popdenscntyland.to_csv('./Output/Output.csv', index = False)"
   ]
  },
  {
   "cell_type": "code",
   "execution_count": 86,
   "metadata": {},
   "outputs": [
    {
     "ename": "KeyboardInterrupt",
     "evalue": "",
     "output_type": "error",
     "traceback": [
      "\u001b[0;31m---------------------------------------------------------------------------\u001b[0m",
      "\u001b[0;31mKeyboardInterrupt\u001b[0m                         Traceback (most recent call last)",
      "\u001b[0;32m/var/folders/1h/kbzsd68d1ql5k8k60_bnktmm0000gn/T/ipykernel_9726/3191449577.py\u001b[0m in \u001b[0;36m<module>\u001b[0;34m\u001b[0m\n\u001b[1;32m     12\u001b[0m         \u001b[0;34m\"apiKey\"\u001b[0m\u001b[0;34m:\u001b[0m\u001b[0mgeoapify_key\u001b[0m\u001b[0;34m\u001b[0m\u001b[0;34m\u001b[0m\u001b[0m\n\u001b[1;32m     13\u001b[0m         }\n\u001b[0;32m---> 14\u001b[0;31m     \u001b[0mresponse\u001b[0m\u001b[0;34m=\u001b[0m\u001b[0mrequests\u001b[0m\u001b[0;34m.\u001b[0m\u001b[0mget\u001b[0m\u001b[0;34m(\u001b[0m\u001b[0murl\u001b[0m\u001b[0;34m,\u001b[0m\u001b[0mparams\u001b[0m\u001b[0;34m=\u001b[0m\u001b[0mparams\u001b[0m\u001b[0;34m)\u001b[0m\u001b[0;34m.\u001b[0m\u001b[0mjson\u001b[0m\u001b[0;34m(\u001b[0m\u001b[0;34m)\u001b[0m\u001b[0;34m\u001b[0m\u001b[0;34m\u001b[0m\u001b[0m\n\u001b[0m\u001b[1;32m     15\u001b[0m     \u001b[0;31m# print(response)\u001b[0m\u001b[0;34m\u001b[0m\u001b[0;34m\u001b[0m\u001b[0;34m\u001b[0m\u001b[0m\n\u001b[1;32m     16\u001b[0m     \u001b[0mlongitude\u001b[0m\u001b[0;34m.\u001b[0m\u001b[0mappend\u001b[0m\u001b[0;34m(\u001b[0m\u001b[0mresponse\u001b[0m\u001b[0;34m[\u001b[0m\u001b[0;34m\"features\"\u001b[0m\u001b[0;34m]\u001b[0m\u001b[0;34m[\u001b[0m\u001b[0;36m0\u001b[0m\u001b[0;34m]\u001b[0m\u001b[0;34m[\u001b[0m\u001b[0;34m\"properties\"\u001b[0m\u001b[0;34m]\u001b[0m\u001b[0;34m[\u001b[0m\u001b[0;34m\"lon\"\u001b[0m\u001b[0;34m]\u001b[0m\u001b[0;34m)\u001b[0m\u001b[0;34m\u001b[0m\u001b[0;34m\u001b[0m\u001b[0m\n",
      "\u001b[0;32m~/opt/anaconda3/envs/PythonData/lib/python3.7/site-packages/requests/api.py\u001b[0m in \u001b[0;36mget\u001b[0;34m(url, params, **kwargs)\u001b[0m\n\u001b[1;32m     71\u001b[0m     \"\"\"\n\u001b[1;32m     72\u001b[0m \u001b[0;34m\u001b[0m\u001b[0m\n\u001b[0;32m---> 73\u001b[0;31m     \u001b[0;32mreturn\u001b[0m \u001b[0mrequest\u001b[0m\u001b[0;34m(\u001b[0m\u001b[0;34m\"get\"\u001b[0m\u001b[0;34m,\u001b[0m \u001b[0murl\u001b[0m\u001b[0;34m,\u001b[0m \u001b[0mparams\u001b[0m\u001b[0;34m=\u001b[0m\u001b[0mparams\u001b[0m\u001b[0;34m,\u001b[0m \u001b[0;34m**\u001b[0m\u001b[0mkwargs\u001b[0m\u001b[0;34m)\u001b[0m\u001b[0;34m\u001b[0m\u001b[0;34m\u001b[0m\u001b[0m\n\u001b[0m\u001b[1;32m     74\u001b[0m \u001b[0;34m\u001b[0m\u001b[0m\n\u001b[1;32m     75\u001b[0m \u001b[0;34m\u001b[0m\u001b[0m\n",
      "\u001b[0;32m~/opt/anaconda3/envs/PythonData/lib/python3.7/site-packages/requests/api.py\u001b[0m in \u001b[0;36mrequest\u001b[0;34m(method, url, **kwargs)\u001b[0m\n\u001b[1;32m     57\u001b[0m     \u001b[0;31m# cases, and look like a memory leak in others.\u001b[0m\u001b[0;34m\u001b[0m\u001b[0;34m\u001b[0m\u001b[0;34m\u001b[0m\u001b[0m\n\u001b[1;32m     58\u001b[0m     \u001b[0;32mwith\u001b[0m \u001b[0msessions\u001b[0m\u001b[0;34m.\u001b[0m\u001b[0mSession\u001b[0m\u001b[0;34m(\u001b[0m\u001b[0;34m)\u001b[0m \u001b[0;32mas\u001b[0m \u001b[0msession\u001b[0m\u001b[0;34m:\u001b[0m\u001b[0;34m\u001b[0m\u001b[0;34m\u001b[0m\u001b[0m\n\u001b[0;32m---> 59\u001b[0;31m         \u001b[0;32mreturn\u001b[0m \u001b[0msession\u001b[0m\u001b[0;34m.\u001b[0m\u001b[0mrequest\u001b[0m\u001b[0;34m(\u001b[0m\u001b[0mmethod\u001b[0m\u001b[0;34m=\u001b[0m\u001b[0mmethod\u001b[0m\u001b[0;34m,\u001b[0m \u001b[0murl\u001b[0m\u001b[0;34m=\u001b[0m\u001b[0murl\u001b[0m\u001b[0;34m,\u001b[0m \u001b[0;34m**\u001b[0m\u001b[0mkwargs\u001b[0m\u001b[0;34m)\u001b[0m\u001b[0;34m\u001b[0m\u001b[0;34m\u001b[0m\u001b[0m\n\u001b[0m\u001b[1;32m     60\u001b[0m \u001b[0;34m\u001b[0m\u001b[0m\n\u001b[1;32m     61\u001b[0m \u001b[0;34m\u001b[0m\u001b[0m\n",
      "\u001b[0;32m~/opt/anaconda3/envs/PythonData/lib/python3.7/site-packages/requests/sessions.py\u001b[0m in \u001b[0;36mrequest\u001b[0;34m(self, method, url, params, data, headers, cookies, files, auth, timeout, allow_redirects, proxies, hooks, stream, verify, cert, json)\u001b[0m\n\u001b[1;32m    585\u001b[0m         }\n\u001b[1;32m    586\u001b[0m         \u001b[0msend_kwargs\u001b[0m\u001b[0;34m.\u001b[0m\u001b[0mupdate\u001b[0m\u001b[0;34m(\u001b[0m\u001b[0msettings\u001b[0m\u001b[0;34m)\u001b[0m\u001b[0;34m\u001b[0m\u001b[0;34m\u001b[0m\u001b[0m\n\u001b[0;32m--> 587\u001b[0;31m         \u001b[0mresp\u001b[0m \u001b[0;34m=\u001b[0m \u001b[0mself\u001b[0m\u001b[0;34m.\u001b[0m\u001b[0msend\u001b[0m\u001b[0;34m(\u001b[0m\u001b[0mprep\u001b[0m\u001b[0;34m,\u001b[0m \u001b[0;34m**\u001b[0m\u001b[0msend_kwargs\u001b[0m\u001b[0;34m)\u001b[0m\u001b[0;34m\u001b[0m\u001b[0;34m\u001b[0m\u001b[0m\n\u001b[0m\u001b[1;32m    588\u001b[0m \u001b[0;34m\u001b[0m\u001b[0m\n\u001b[1;32m    589\u001b[0m         \u001b[0;32mreturn\u001b[0m \u001b[0mresp\u001b[0m\u001b[0;34m\u001b[0m\u001b[0;34m\u001b[0m\u001b[0m\n",
      "\u001b[0;32m~/opt/anaconda3/envs/PythonData/lib/python3.7/site-packages/requests/sessions.py\u001b[0m in \u001b[0;36msend\u001b[0;34m(self, request, **kwargs)\u001b[0m\n\u001b[1;32m    699\u001b[0m \u001b[0;34m\u001b[0m\u001b[0m\n\u001b[1;32m    700\u001b[0m         \u001b[0;31m# Send the request\u001b[0m\u001b[0;34m\u001b[0m\u001b[0;34m\u001b[0m\u001b[0;34m\u001b[0m\u001b[0m\n\u001b[0;32m--> 701\u001b[0;31m         \u001b[0mr\u001b[0m \u001b[0;34m=\u001b[0m \u001b[0madapter\u001b[0m\u001b[0;34m.\u001b[0m\u001b[0msend\u001b[0m\u001b[0;34m(\u001b[0m\u001b[0mrequest\u001b[0m\u001b[0;34m,\u001b[0m \u001b[0;34m**\u001b[0m\u001b[0mkwargs\u001b[0m\u001b[0;34m)\u001b[0m\u001b[0;34m\u001b[0m\u001b[0;34m\u001b[0m\u001b[0m\n\u001b[0m\u001b[1;32m    702\u001b[0m \u001b[0;34m\u001b[0m\u001b[0m\n\u001b[1;32m    703\u001b[0m         \u001b[0;31m# Total elapsed time of the request (approximately)\u001b[0m\u001b[0;34m\u001b[0m\u001b[0;34m\u001b[0m\u001b[0;34m\u001b[0m\u001b[0m\n",
      "\u001b[0;32m~/opt/anaconda3/envs/PythonData/lib/python3.7/site-packages/requests/adapters.py\u001b[0m in \u001b[0;36msend\u001b[0;34m(self, request, stream, timeout, verify, cert, proxies)\u001b[0m\n\u001b[1;32m    497\u001b[0m                     \u001b[0mdecode_content\u001b[0m\u001b[0;34m=\u001b[0m\u001b[0;32mFalse\u001b[0m\u001b[0;34m,\u001b[0m\u001b[0;34m\u001b[0m\u001b[0;34m\u001b[0m\u001b[0m\n\u001b[1;32m    498\u001b[0m                     \u001b[0mretries\u001b[0m\u001b[0;34m=\u001b[0m\u001b[0mself\u001b[0m\u001b[0;34m.\u001b[0m\u001b[0mmax_retries\u001b[0m\u001b[0;34m,\u001b[0m\u001b[0;34m\u001b[0m\u001b[0;34m\u001b[0m\u001b[0m\n\u001b[0;32m--> 499\u001b[0;31m                     \u001b[0mtimeout\u001b[0m\u001b[0;34m=\u001b[0m\u001b[0mtimeout\u001b[0m\u001b[0;34m,\u001b[0m\u001b[0;34m\u001b[0m\u001b[0;34m\u001b[0m\u001b[0m\n\u001b[0m\u001b[1;32m    500\u001b[0m                 )\n\u001b[1;32m    501\u001b[0m \u001b[0;34m\u001b[0m\u001b[0m\n",
      "\u001b[0;32m~/opt/anaconda3/envs/PythonData/lib/python3.7/site-packages/urllib3/connectionpool.py\u001b[0m in \u001b[0;36murlopen\u001b[0;34m(self, method, url, body, headers, retries, redirect, assert_same_host, timeout, pool_timeout, release_conn, chunked, body_pos, **response_kw)\u001b[0m\n\u001b[1;32m    708\u001b[0m                 \u001b[0mbody\u001b[0m\u001b[0;34m=\u001b[0m\u001b[0mbody\u001b[0m\u001b[0;34m,\u001b[0m\u001b[0;34m\u001b[0m\u001b[0;34m\u001b[0m\u001b[0m\n\u001b[1;32m    709\u001b[0m                 \u001b[0mheaders\u001b[0m\u001b[0;34m=\u001b[0m\u001b[0mheaders\u001b[0m\u001b[0;34m,\u001b[0m\u001b[0;34m\u001b[0m\u001b[0;34m\u001b[0m\u001b[0m\n\u001b[0;32m--> 710\u001b[0;31m                 \u001b[0mchunked\u001b[0m\u001b[0;34m=\u001b[0m\u001b[0mchunked\u001b[0m\u001b[0;34m,\u001b[0m\u001b[0;34m\u001b[0m\u001b[0;34m\u001b[0m\u001b[0m\n\u001b[0m\u001b[1;32m    711\u001b[0m             )\n\u001b[1;32m    712\u001b[0m \u001b[0;34m\u001b[0m\u001b[0m\n",
      "\u001b[0;32m~/opt/anaconda3/envs/PythonData/lib/python3.7/site-packages/urllib3/connectionpool.py\u001b[0m in \u001b[0;36m_make_request\u001b[0;34m(self, conn, method, url, timeout, chunked, **httplib_request_kw)\u001b[0m\n\u001b[1;32m    447\u001b[0m                     \u001b[0;31m# Python 3 (including for exceptions like SystemExit).\u001b[0m\u001b[0;34m\u001b[0m\u001b[0;34m\u001b[0m\u001b[0;34m\u001b[0m\u001b[0m\n\u001b[1;32m    448\u001b[0m                     \u001b[0;31m# Otherwise it looks like a bug in the code.\u001b[0m\u001b[0;34m\u001b[0m\u001b[0;34m\u001b[0m\u001b[0;34m\u001b[0m\u001b[0m\n\u001b[0;32m--> 449\u001b[0;31m                     \u001b[0msix\u001b[0m\u001b[0;34m.\u001b[0m\u001b[0mraise_from\u001b[0m\u001b[0;34m(\u001b[0m\u001b[0me\u001b[0m\u001b[0;34m,\u001b[0m \u001b[0;32mNone\u001b[0m\u001b[0;34m)\u001b[0m\u001b[0;34m\u001b[0m\u001b[0;34m\u001b[0m\u001b[0m\n\u001b[0m\u001b[1;32m    450\u001b[0m         \u001b[0;32mexcept\u001b[0m \u001b[0;34m(\u001b[0m\u001b[0mSocketTimeout\u001b[0m\u001b[0;34m,\u001b[0m \u001b[0mBaseSSLError\u001b[0m\u001b[0;34m,\u001b[0m \u001b[0mSocketError\u001b[0m\u001b[0;34m)\u001b[0m \u001b[0;32mas\u001b[0m \u001b[0me\u001b[0m\u001b[0;34m:\u001b[0m\u001b[0;34m\u001b[0m\u001b[0;34m\u001b[0m\u001b[0m\n\u001b[1;32m    451\u001b[0m             \u001b[0mself\u001b[0m\u001b[0;34m.\u001b[0m\u001b[0m_raise_timeout\u001b[0m\u001b[0;34m(\u001b[0m\u001b[0merr\u001b[0m\u001b[0;34m=\u001b[0m\u001b[0me\u001b[0m\u001b[0;34m,\u001b[0m \u001b[0murl\u001b[0m\u001b[0;34m=\u001b[0m\u001b[0murl\u001b[0m\u001b[0;34m,\u001b[0m \u001b[0mtimeout_value\u001b[0m\u001b[0;34m=\u001b[0m\u001b[0mread_timeout\u001b[0m\u001b[0;34m)\u001b[0m\u001b[0;34m\u001b[0m\u001b[0;34m\u001b[0m\u001b[0m\n",
      "\u001b[0;32m~/opt/anaconda3/envs/PythonData/lib/python3.7/site-packages/urllib3/packages/six.py\u001b[0m in \u001b[0;36mraise_from\u001b[0;34m(value, from_value)\u001b[0m\n",
      "\u001b[0;32m~/opt/anaconda3/envs/PythonData/lib/python3.7/site-packages/urllib3/connectionpool.py\u001b[0m in \u001b[0;36m_make_request\u001b[0;34m(self, conn, method, url, timeout, chunked, **httplib_request_kw)\u001b[0m\n\u001b[1;32m    442\u001b[0m                 \u001b[0;31m# Python 3\u001b[0m\u001b[0;34m\u001b[0m\u001b[0;34m\u001b[0m\u001b[0;34m\u001b[0m\u001b[0m\n\u001b[1;32m    443\u001b[0m                 \u001b[0;32mtry\u001b[0m\u001b[0;34m:\u001b[0m\u001b[0;34m\u001b[0m\u001b[0;34m\u001b[0m\u001b[0m\n\u001b[0;32m--> 444\u001b[0;31m                     \u001b[0mhttplib_response\u001b[0m \u001b[0;34m=\u001b[0m \u001b[0mconn\u001b[0m\u001b[0;34m.\u001b[0m\u001b[0mgetresponse\u001b[0m\u001b[0;34m(\u001b[0m\u001b[0;34m)\u001b[0m\u001b[0;34m\u001b[0m\u001b[0;34m\u001b[0m\u001b[0m\n\u001b[0m\u001b[1;32m    445\u001b[0m                 \u001b[0;32mexcept\u001b[0m \u001b[0mBaseException\u001b[0m \u001b[0;32mas\u001b[0m \u001b[0me\u001b[0m\u001b[0;34m:\u001b[0m\u001b[0;34m\u001b[0m\u001b[0;34m\u001b[0m\u001b[0m\n\u001b[1;32m    446\u001b[0m                     \u001b[0;31m# Remove the TypeError from the exception chain in\u001b[0m\u001b[0;34m\u001b[0m\u001b[0;34m\u001b[0m\u001b[0;34m\u001b[0m\u001b[0m\n",
      "\u001b[0;32m~/opt/anaconda3/envs/PythonData/lib/python3.7/http/client.py\u001b[0m in \u001b[0;36mgetresponse\u001b[0;34m(self)\u001b[0m\n\u001b[1;32m   1342\u001b[0m         \u001b[0;32mtry\u001b[0m\u001b[0;34m:\u001b[0m\u001b[0;34m\u001b[0m\u001b[0;34m\u001b[0m\u001b[0m\n\u001b[1;32m   1343\u001b[0m             \u001b[0;32mtry\u001b[0m\u001b[0;34m:\u001b[0m\u001b[0;34m\u001b[0m\u001b[0;34m\u001b[0m\u001b[0m\n\u001b[0;32m-> 1344\u001b[0;31m                 \u001b[0mresponse\u001b[0m\u001b[0;34m.\u001b[0m\u001b[0mbegin\u001b[0m\u001b[0;34m(\u001b[0m\u001b[0;34m)\u001b[0m\u001b[0;34m\u001b[0m\u001b[0;34m\u001b[0m\u001b[0m\n\u001b[0m\u001b[1;32m   1345\u001b[0m             \u001b[0;32mexcept\u001b[0m \u001b[0mConnectionError\u001b[0m\u001b[0;34m:\u001b[0m\u001b[0;34m\u001b[0m\u001b[0;34m\u001b[0m\u001b[0m\n\u001b[1;32m   1346\u001b[0m                 \u001b[0mself\u001b[0m\u001b[0;34m.\u001b[0m\u001b[0mclose\u001b[0m\u001b[0;34m(\u001b[0m\u001b[0;34m)\u001b[0m\u001b[0;34m\u001b[0m\u001b[0;34m\u001b[0m\u001b[0m\n",
      "\u001b[0;32m~/opt/anaconda3/envs/PythonData/lib/python3.7/http/client.py\u001b[0m in \u001b[0;36mbegin\u001b[0;34m(self)\u001b[0m\n\u001b[1;32m    304\u001b[0m         \u001b[0;31m# read until we get a non-100 response\u001b[0m\u001b[0;34m\u001b[0m\u001b[0;34m\u001b[0m\u001b[0;34m\u001b[0m\u001b[0m\n\u001b[1;32m    305\u001b[0m         \u001b[0;32mwhile\u001b[0m \u001b[0;32mTrue\u001b[0m\u001b[0;34m:\u001b[0m\u001b[0;34m\u001b[0m\u001b[0;34m\u001b[0m\u001b[0m\n\u001b[0;32m--> 306\u001b[0;31m             \u001b[0mversion\u001b[0m\u001b[0;34m,\u001b[0m \u001b[0mstatus\u001b[0m\u001b[0;34m,\u001b[0m \u001b[0mreason\u001b[0m \u001b[0;34m=\u001b[0m \u001b[0mself\u001b[0m\u001b[0;34m.\u001b[0m\u001b[0m_read_status\u001b[0m\u001b[0;34m(\u001b[0m\u001b[0;34m)\u001b[0m\u001b[0;34m\u001b[0m\u001b[0;34m\u001b[0m\u001b[0m\n\u001b[0m\u001b[1;32m    307\u001b[0m             \u001b[0;32mif\u001b[0m \u001b[0mstatus\u001b[0m \u001b[0;34m!=\u001b[0m \u001b[0mCONTINUE\u001b[0m\u001b[0;34m:\u001b[0m\u001b[0;34m\u001b[0m\u001b[0;34m\u001b[0m\u001b[0m\n\u001b[1;32m    308\u001b[0m                 \u001b[0;32mbreak\u001b[0m\u001b[0;34m\u001b[0m\u001b[0;34m\u001b[0m\u001b[0m\n",
      "\u001b[0;32m~/opt/anaconda3/envs/PythonData/lib/python3.7/http/client.py\u001b[0m in \u001b[0;36m_read_status\u001b[0;34m(self)\u001b[0m\n\u001b[1;32m    265\u001b[0m \u001b[0;34m\u001b[0m\u001b[0m\n\u001b[1;32m    266\u001b[0m     \u001b[0;32mdef\u001b[0m \u001b[0m_read_status\u001b[0m\u001b[0;34m(\u001b[0m\u001b[0mself\u001b[0m\u001b[0;34m)\u001b[0m\u001b[0;34m:\u001b[0m\u001b[0;34m\u001b[0m\u001b[0;34m\u001b[0m\u001b[0m\n\u001b[0;32m--> 267\u001b[0;31m         \u001b[0mline\u001b[0m \u001b[0;34m=\u001b[0m \u001b[0mstr\u001b[0m\u001b[0;34m(\u001b[0m\u001b[0mself\u001b[0m\u001b[0;34m.\u001b[0m\u001b[0mfp\u001b[0m\u001b[0;34m.\u001b[0m\u001b[0mreadline\u001b[0m\u001b[0;34m(\u001b[0m\u001b[0m_MAXLINE\u001b[0m \u001b[0;34m+\u001b[0m \u001b[0;36m1\u001b[0m\u001b[0;34m)\u001b[0m\u001b[0;34m,\u001b[0m \u001b[0;34m\"iso-8859-1\"\u001b[0m\u001b[0;34m)\u001b[0m\u001b[0;34m\u001b[0m\u001b[0;34m\u001b[0m\u001b[0m\n\u001b[0m\u001b[1;32m    268\u001b[0m         \u001b[0;32mif\u001b[0m \u001b[0mlen\u001b[0m\u001b[0;34m(\u001b[0m\u001b[0mline\u001b[0m\u001b[0;34m)\u001b[0m \u001b[0;34m>\u001b[0m \u001b[0m_MAXLINE\u001b[0m\u001b[0;34m:\u001b[0m\u001b[0;34m\u001b[0m\u001b[0;34m\u001b[0m\u001b[0m\n\u001b[1;32m    269\u001b[0m             \u001b[0;32mraise\u001b[0m \u001b[0mLineTooLong\u001b[0m\u001b[0;34m(\u001b[0m\u001b[0;34m\"status line\"\u001b[0m\u001b[0;34m)\u001b[0m\u001b[0;34m\u001b[0m\u001b[0;34m\u001b[0m\u001b[0m\n",
      "\u001b[0;32m~/opt/anaconda3/envs/PythonData/lib/python3.7/socket.py\u001b[0m in \u001b[0;36mreadinto\u001b[0;34m(self, b)\u001b[0m\n\u001b[1;32m    587\u001b[0m         \u001b[0;32mwhile\u001b[0m \u001b[0;32mTrue\u001b[0m\u001b[0;34m:\u001b[0m\u001b[0;34m\u001b[0m\u001b[0;34m\u001b[0m\u001b[0m\n\u001b[1;32m    588\u001b[0m             \u001b[0;32mtry\u001b[0m\u001b[0;34m:\u001b[0m\u001b[0;34m\u001b[0m\u001b[0;34m\u001b[0m\u001b[0m\n\u001b[0;32m--> 589\u001b[0;31m                 \u001b[0;32mreturn\u001b[0m \u001b[0mself\u001b[0m\u001b[0;34m.\u001b[0m\u001b[0m_sock\u001b[0m\u001b[0;34m.\u001b[0m\u001b[0mrecv_into\u001b[0m\u001b[0;34m(\u001b[0m\u001b[0mb\u001b[0m\u001b[0;34m)\u001b[0m\u001b[0;34m\u001b[0m\u001b[0;34m\u001b[0m\u001b[0m\n\u001b[0m\u001b[1;32m    590\u001b[0m             \u001b[0;32mexcept\u001b[0m \u001b[0mtimeout\u001b[0m\u001b[0;34m:\u001b[0m\u001b[0;34m\u001b[0m\u001b[0;34m\u001b[0m\u001b[0m\n\u001b[1;32m    591\u001b[0m                 \u001b[0mself\u001b[0m\u001b[0;34m.\u001b[0m\u001b[0m_timeout_occurred\u001b[0m \u001b[0;34m=\u001b[0m \u001b[0;32mTrue\u001b[0m\u001b[0;34m\u001b[0m\u001b[0;34m\u001b[0m\u001b[0m\n",
      "\u001b[0;32m~/opt/anaconda3/envs/PythonData/lib/python3.7/ssl.py\u001b[0m in \u001b[0;36mrecv_into\u001b[0;34m(self, buffer, nbytes, flags)\u001b[0m\n\u001b[1;32m   1069\u001b[0m                   \u001b[0;34m\"non-zero flags not allowed in calls to recv_into() on %s\"\u001b[0m \u001b[0;34m%\u001b[0m\u001b[0;34m\u001b[0m\u001b[0;34m\u001b[0m\u001b[0m\n\u001b[1;32m   1070\u001b[0m                   self.__class__)\n\u001b[0;32m-> 1071\u001b[0;31m             \u001b[0;32mreturn\u001b[0m \u001b[0mself\u001b[0m\u001b[0;34m.\u001b[0m\u001b[0mread\u001b[0m\u001b[0;34m(\u001b[0m\u001b[0mnbytes\u001b[0m\u001b[0;34m,\u001b[0m \u001b[0mbuffer\u001b[0m\u001b[0;34m)\u001b[0m\u001b[0;34m\u001b[0m\u001b[0;34m\u001b[0m\u001b[0m\n\u001b[0m\u001b[1;32m   1072\u001b[0m         \u001b[0;32melse\u001b[0m\u001b[0;34m:\u001b[0m\u001b[0;34m\u001b[0m\u001b[0;34m\u001b[0m\u001b[0m\n\u001b[1;32m   1073\u001b[0m             \u001b[0;32mreturn\u001b[0m \u001b[0msuper\u001b[0m\u001b[0;34m(\u001b[0m\u001b[0;34m)\u001b[0m\u001b[0;34m.\u001b[0m\u001b[0mrecv_into\u001b[0m\u001b[0;34m(\u001b[0m\u001b[0mbuffer\u001b[0m\u001b[0;34m,\u001b[0m \u001b[0mnbytes\u001b[0m\u001b[0;34m,\u001b[0m \u001b[0mflags\u001b[0m\u001b[0;34m)\u001b[0m\u001b[0;34m\u001b[0m\u001b[0;34m\u001b[0m\u001b[0m\n",
      "\u001b[0;32m~/opt/anaconda3/envs/PythonData/lib/python3.7/ssl.py\u001b[0m in \u001b[0;36mread\u001b[0;34m(self, len, buffer)\u001b[0m\n\u001b[1;32m    927\u001b[0m         \u001b[0;32mtry\u001b[0m\u001b[0;34m:\u001b[0m\u001b[0;34m\u001b[0m\u001b[0;34m\u001b[0m\u001b[0m\n\u001b[1;32m    928\u001b[0m             \u001b[0;32mif\u001b[0m \u001b[0mbuffer\u001b[0m \u001b[0;32mis\u001b[0m \u001b[0;32mnot\u001b[0m \u001b[0;32mNone\u001b[0m\u001b[0;34m:\u001b[0m\u001b[0;34m\u001b[0m\u001b[0;34m\u001b[0m\u001b[0m\n\u001b[0;32m--> 929\u001b[0;31m                 \u001b[0;32mreturn\u001b[0m \u001b[0mself\u001b[0m\u001b[0;34m.\u001b[0m\u001b[0m_sslobj\u001b[0m\u001b[0;34m.\u001b[0m\u001b[0mread\u001b[0m\u001b[0;34m(\u001b[0m\u001b[0mlen\u001b[0m\u001b[0;34m,\u001b[0m \u001b[0mbuffer\u001b[0m\u001b[0;34m)\u001b[0m\u001b[0;34m\u001b[0m\u001b[0;34m\u001b[0m\u001b[0m\n\u001b[0m\u001b[1;32m    930\u001b[0m             \u001b[0;32melse\u001b[0m\u001b[0;34m:\u001b[0m\u001b[0;34m\u001b[0m\u001b[0;34m\u001b[0m\u001b[0m\n\u001b[1;32m    931\u001b[0m                 \u001b[0;32mreturn\u001b[0m \u001b[0mself\u001b[0m\u001b[0;34m.\u001b[0m\u001b[0m_sslobj\u001b[0m\u001b[0;34m.\u001b[0m\u001b[0mread\u001b[0m\u001b[0;34m(\u001b[0m\u001b[0mlen\u001b[0m\u001b[0;34m)\u001b[0m\u001b[0;34m\u001b[0m\u001b[0;34m\u001b[0m\u001b[0m\n",
      "\u001b[0;31mKeyboardInterrupt\u001b[0m: "
     ]
    }
   ],
   "source": [
    "#PRIYA ADD Code\n",
    "\n",
    "# Add lat and long for each county\n",
    "url=\"https://api.geoapify.com/v1/geocode/search?\"\n",
    "\n",
    "counties=censusonly_popdenscntyland[\"Geography\"]\n",
    "longitude=[]\n",
    "latitude=[]\n",
    "\n",
    "for county in counties:\n",
    "    params = {  \n",
    "        \"text\":county,\n",
    "        \"state\":\"New York\",\n",
    "        \"apiKey\":geoapify_key    \n",
    "        }\n",
    "    response=requests.get(url,params=params).json()\n",
    "    # print(response)\n",
    "    longitude.append(response[\"features\"][0][\"properties\"][\"lon\"])\n",
    "    latitude.append(response[\"features\"][0][\"properties\"][\"lat\"])\n",
    "print(longitude)\n",
    "print(latitude)\n",
    "\n",
    "\n",
    "# popdenscountyland[\"Longitude\"]=longitude   \n",
    "# popdenscountyland[\"Latitude\"]=latitude\n",
    "\n",
    "#CURRENTZEE#"
   ]
  },
  {
   "cell_type": "code",
   "execution_count": null,
   "metadata": {},
   "outputs": [],
   "source": [
    "popdenscountyland[\"Longitude\"]=longitude   \n",
    "popdenscountyland[\"Latitude\"]=latitude"
   ]
  },
  {
   "cell_type": "code",
   "execution_count": null,
   "metadata": {},
   "outputs": [],
   "source": [
    "# land_location2=land_location.loc[land_location[\"Year\"]==2020,:]\n",
    "# land_location2.reset_index()"
   ]
  },
  {
   "cell_type": "code",
   "execution_count": null,
   "metadata": {},
   "outputs": [],
   "source": []
  },
  {
   "cell_type": "code",
   "execution_count": null,
   "metadata": {},
   "outputs": [],
   "source": [
    "\n",
    "# plt.scatter(land_location2['Longitude'],land_location2['Latitude'],c=land_location2['Population Density (person/sq.mi.)'])\n",
    "# clb = plt.colorbar()\n",
    "# plt.xlabel(\"Longitude\")\n",
    "# plt.ylabel(\"Latitude\")\n",
    "# clb.set_label(\"Population Density (person/sq.mi.)\")\n",
    "# plt.show()"
   ]
  },
  {
   "cell_type": "code",
   "execution_count": null,
   "metadata": {},
   "outputs": [],
   "source": [
    "# land_location3=land_location.loc[land_location[\"Year\"]==2010,:]\n",
    "# land_location3.reset_index()\n",
    "# prev_yr_pop=land_location3[\"Population\"]\n",
    "# current_yr_pop=land_location2[\"Population\"]\n",
    "# pop_growth_percentage=[]\n",
    "\n",
    "# for pop in prev_yr_pop:\n",
    "#     for pops in current_yr_pop:\n",
    "#         population_growth_rate=((current_yr_pop-prev_yr_pop)/prev_yr_pop)*100\n",
    "#         pop_growth_percentage.append(population_growth_rate)\n",
    "# print(pop_growth_percentage)"
   ]
  },
  {
   "cell_type": "code",
   "execution_count": null,
   "metadata": {},
   "outputs": [],
   "source": [
    "\n",
    "# land_location2\n"
   ]
  },
  {
   "cell_type": "code",
   "execution_count": null,
   "metadata": {},
   "outputs": [],
   "source": [
    "# map_plot=land_location2.hvplot.points(\"Longitude\",\"Latitude\",geo=True,tiles=\"OSM\",frame_width=700,frame_height=500, \n",
    "#                                     size=\"Population Density (person/sq.mi.)\",color=\"Geography\")\n",
    "\n",
    "# map_plot"
   ]
  }
 ],
 "metadata": {
  "kernelspec": {
   "display_name": "PythonData",
   "language": "python",
   "name": "python3"
  },
  "language_info": {
   "codemirror_mode": {
    "name": "ipython",
    "version": 3
   },
   "file_extension": ".py",
   "mimetype": "text/x-python",
   "name": "python",
   "nbconvert_exporter": "python",
   "pygments_lexer": "ipython3",
   "version": "3.7.7"
  },
  "vscode": {
   "interpreter": {
    "hash": "4c0b94a21367b3e679ba2c8b618daf2a73f73b6ffca34b83b0e00afbf574cd16"
   }
  }
 },
 "nbformat": 4,
 "nbformat_minor": 2
}
